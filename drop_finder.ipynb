{
  "nbformat": 4,
  "nbformat_minor": 0,
  "metadata": {
    "colab": {
      "provenance": [],
      "authorship_tag": "ABX9TyOuX0fxLcG0FJcTZ/brQUvt",
      "include_colab_link": true
    },
    "kernelspec": {
      "name": "python3",
      "display_name": "Python 3"
    },
    "language_info": {
      "name": "python"
    }
  },
  "cells": [
    {
      "cell_type": "markdown",
      "metadata": {
        "id": "view-in-github",
        "colab_type": "text"
      },
      "source": [
        "<a href=\"https://colab.research.google.com/github/xcollantes/stock-quant-frontend/blob/main/drop_finder.ipynb\" target=\"_parent\"><img src=\"https://colab.research.google.com/assets/colab-badge.svg\" alt=\"Open In Colab\"/></a>"
      ]
    },
    {
      "cell_type": "markdown",
      "source": [
        "# Find drops in stock prices as an entry point for analysis.\n",
        "\n",
        "Use cases include events where a stock has a shock to it's market price due to some event such as hype from some news to the company, industry events, company going bankrupt, or some other reason.\n",
        "\n",
        "**Methodology:** Look at the previous close of asset, compare if the asset at close\n",
        "\n",
        "**Drawbacks:** Metrics are taken at the close price to next close price so fluctuations within a day will not be detected."
      ],
      "metadata": {
        "id": "y1sqp1grW2gT"
      }
    },
    {
      "cell_type": "code",
      "execution_count": null,
      "metadata": {
        "id": "r9ZBl50UWyFR"
      },
      "outputs": [],
      "source": [
        "# @title Top drops\n",
        "industry_name = \"Software\\u2014Infrastructure\" #@param ['Advertising Agencies', 'Aerospace & Defense', 'Agricultural Inputs', 'Airlines', 'Airports & Air Services','Aluminum', 'Apparel Manufacturing', 'Apparel Retail', 'Asset Management', 'Auto & Truck Dealerships', 'Auto Manufacturers', 'Auto Parts', 'Banks—Diversified','Banks—Regional', 'Beverages—Brewers', 'Beverages—Non-Alcoholic','Beverages—Wineries & Distilleries', 'Biotechnology','Broadcasting', 'Building Materials','Building Products & Equipment', 'Business Equipment & Supplies','Capital Markets', 'Chemicals', 'Closed-End Fund - Equity','Coking Coal', 'Communication Equipment', 'Computer Hardware','Confectioners', 'Conglomerates', 'Consulting Services','Consumer Electronics', 'Copper', 'Credit Services','Department Stores', 'Diagnostics & Research', 'Discount Stores','Drug Manufacturers—General','Drug Manufacturers—Specialty & Generic','Education & Training Services', 'Electrical Equipment & Parts','Electronic Components', 'Electronic Gaming & Multimedia','Electronics & Computer Distribution','Engineering & Construction', 'Entertainment','Farm & Heavy Construction Machinery', 'Farm Products','Financial Conglomerates', 'Financial Data & Stock Exchanges','Food Distribution', 'Footwear & Accessories','Furnishings, Fixtures & Appliances', 'Gambling', 'Gold','Grocery Stores', 'Health Information Services','Healthcare Plans', 'Home Improvement Retail','Household & Personal Products', 'Independent Oil & Gas','Industrial Distribution', 'Information Technology Services','Insurance Brokers', 'Insurance—Diversified', 'Insurance—Life','Insurance—Property & Casualty', 'Insurance—Reinsurance','Insurance—Specialty', 'Integrated Freight & Logistics','Internet Content & Information', 'Internet Retail', 'Leisure','Lodging', 'Lumber & Wood Production', 'Luxury Goods','Marine Shipping', 'Medical Care Facilities', 'Medical Devices','Medical Distribution', 'Medical Instruments & Supplies','Metal Fabrication', 'Mortgage Finance', 'Oil & Gas Drilling','Oil & Gas E&P', 'Oil & Gas Equipment & Services','Oil & Gas Integrated', 'Oil & Gas Midstream','Oil & Gas Pipelines', 'Oil & Gas Refining & Marketing','Other Industrial Metals & Mining','Other Precious Metals & Mining', 'Packaged Foods','Packaging & Containers', 'Paper & Paper Products','Personal Services', 'Pharmaceutical Retailers','Pollution & Treatment Controls', 'Publishing', 'REIT—Diversified','REIT—Healthcare Facilities', 'REIT—Hotel & Motel','REIT—Industrial', 'REIT—Mortgage', 'REIT—Office','REIT—Residential', 'REIT—Retail', 'REIT—Specialty', 'Railroads','Real Estate Services', 'Real Estate—Development','Real Estate—Diversified', 'Recreational Vehicles','Rental & Leasing Services', 'Residential Construction','Resorts & Casinos', 'Restaurants','Scientific & Technical Instruments','Security & Protection Services','Semiconductor Equipment & Materials', 'Semiconductors','Shell Companies', 'Silver', 'Software—Application','Software—Infrastructure', 'Solar', 'Specialty Business Services','Specialty Chemicals', 'Specialty Industrial Machinery','Specialty Retail', 'Staffing & Employment Services', 'Steel','Telecom Services', 'Textile Manufacturing', 'Thermal Coal','Tobacco', 'Tools & Accessories', 'Travel Services', 'Trucking','Uranium', 'Utilities—Diversified','Utilities—Independent Power Producers','Utilities—Regulated Electric', 'Utilities—Regulated Gas','Utilities—Regulated Water', 'Utilities—Renewable','Waste Management'] {allow-input: true}\n",
        "show_count = 35 #@param {type:\"slider\", min:1, max:100, step:1}\n",
        "\n",
        "with pd.option_context(\"display.max_rows\", None):\n",
        "  if industry_name:\n",
        "    display(symbols_df[symbols_df[\"industry\"] == industry_name].sort_values(\n",
        "      by=\"pctchangeDecimal\", ascending=True).head(show_count))\n",
        "  else:\n",
        "    display(symbols_df.sort_values(\n",
        "      by=\"pctchangeDecimal\", ascending=True).head(show_count))"
      ]
    },
    {
      "cell_type": "code",
      "source": [
        "# @title Sharp drops\n",
        "days_ago = 50 #@param {type:\"slider\", min:1, max:500, step:1}\n",
        "\n",
        "test_sym = [\"NVDA\", \"GOOG\", \"MSFT\", \"NET\", \"VSTM\"] # DEBUG\n",
        "\n",
        "# print(f\"Given the last {days_ago} days of price data\")\n",
        "\n",
        "for index, symbol in nasdaq_df.iterrows():\n",
        "  stock_symbol: str = symbol['symbol']\n",
        "  stock_name: str = symbol['name']\n",
        "\n",
        "  # if stock_symbol in test_sym: # DEBUG\n",
        "  symbol_data: pd.DataFrame = get_symbol_data(stock_symbol, days_ago=90)\n",
        "  if_spike: bool = has_large_drop_last3days(symbol_data)\n",
        "  if if_spike:\n",
        "    display(md(f\"[{stock_name}](https://www.google.com/search?q={urllib.parse.quote(stock_name)}) has spike {if_spike}\"))\n",
        "    display(symbol_show_line(symbol_data, title=stock_name))"
      ],
      "metadata": {
        "id": "vnD-QpsLXmeN"
      },
      "execution_count": null,
      "outputs": []
    }
  ]
}